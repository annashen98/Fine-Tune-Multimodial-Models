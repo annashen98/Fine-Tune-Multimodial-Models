{
 "cells": [
  {
   "cell_type": "code",
   "execution_count": 8,
   "id": "861c76e5",
   "metadata": {},
   "outputs": [],
   "source": [
    "import sys\n",
    "sys.path.insert(0, \"./fake_flash_attn\")"
   ]
  },
  {
   "cell_type": "code",
   "execution_count": null,
   "id": "948d4132",
   "metadata": {},
   "outputs": [],
   "source": [
    "pip install -U \"transformers==4.40.2\" \"peft==0.10.0\""
   ]
  },
  {
   "cell_type": "code",
   "execution_count": null,
   "id": "a3efddea",
   "metadata": {},
   "outputs": [],
   "source": [
    "pip install einops timm"
   ]
  },
  {
   "cell_type": "code",
   "execution_count": 2,
   "id": "e12c2a4a",
   "metadata": {},
   "outputs": [
    {
     "name": "stderr",
     "output_type": "stream",
     "text": [
      "d:\\ucl-dissertation\\mapillary\\florence_new_env\\Lib\\site-packages\\tqdm\\auto.py:21: TqdmWarning: IProgress not found. Please update jupyter and ipywidgets. See https://ipywidgets.readthedocs.io/en/stable/user_install.html\n",
      "  from .autonotebook import tqdm as notebook_tqdm\n"
     ]
    },
    {
     "name": "stdout",
     "output_type": "stream",
     "text": [
      "4.40.2\n",
      "0.10.0\n"
     ]
    }
   ],
   "source": [
    "import transformers, peft\n",
    "print(transformers.__version__)\n",
    "print(peft.__version__)"
   ]
  },
  {
   "cell_type": "code",
   "execution_count": 3,
   "id": "0a059254",
   "metadata": {},
   "outputs": [],
   "source": [
    "import os, csv, json\n",
    "from tqdm import tqdm\n",
    "from PIL import Image\n",
    "import torch\n",
    "from transformers import AutoProcessor, AutoModelForCausalLM\n",
    "from peft import PeftModel\n"
   ]
  },
  {
   "cell_type": "code",
   "execution_count": 8,
   "id": "f14a2777",
   "metadata": {},
   "outputs": [],
   "source": [
    "# ==== Best模型目录列表 ====\n",
    "best_model_dirs = [\n",
    "    #\"D:/ucl-dissertation/florence2basetrain/florence2-lora-bs4_lr5e-06_ep15/best\",\n",
    "    #\"D:/ucl-dissertation/florence2basetrain/florence2-lora-bs4_lr2e-05_ep15/best\",\n",
    "    #\"D:/ucl-dissertation/florence2basetrain/florence2-lora-bs8_lr5e-06_ep15/best\",\n",
    "    #\"D:/ucl-dissertation/florence2basetrain/florence2-lora-bs2_lr1e-05_ep15/best\",\n",
    "    \"D:/ucl-dissertation/florence2basetrain/florence2-lora-bs4_lr1e-05_ep30_sp/best\",\n",
    "]\n",
    "\n",
    "# ==== 图片地址 ====\n",
    "img_dir = r\"D:\\ucl-dissertation\\mapillary\\processed\"\n",
    "\n",
    "# ==== 验证集数据 ====\n",
    "val_jsonl = r\"D:\\ucl-dissertation\\mapillary\\captions_val_3.jsonl\"\n",
    "val_ds = []\n",
    "with open(val_jsonl, \"r\", encoding=\"utf-8\") as f:\n",
    "    for line in f:\n",
    "        val_ds.append(json.loads(line))"
   ]
  },
  {
   "cell_type": "code",
   "execution_count": 9,
   "id": "be9f286f",
   "metadata": {},
   "outputs": [],
   "source": [
    "# 加载florence-2-base模型\n",
    "\n",
    "CKPT = \"microsoft/Florence-2-base\"\n",
    "DEVICE = \"cuda\" if torch.cuda.is_available() else \"cpu\"\n"
   ]
  },
  {
   "cell_type": "code",
   "execution_count": 10,
   "id": "29ba9fb0",
   "metadata": {},
   "outputs": [
    {
     "name": "stdout",
     "output_type": "stream",
     "text": [
      "Processing D:/ucl-dissertation/florence2basetrain/florence2-lora-bs4_lr1e-05_ep30_sp/best ...\n"
     ]
    },
    {
     "name": "stderr",
     "output_type": "stream",
     "text": [
      "florence2-lora-bs4_lr1e-05_ep30_sp val infer: 100%|██████████| 40/40 [03:06<00:00,  4.66s/it]"
     ]
    },
    {
     "name": "stdout",
     "output_type": "stream",
     "text": [
      "Saved florence2-lora-bs4_lr1e-05_ep30_sp_val_predict.csv\n"
     ]
    },
    {
     "name": "stderr",
     "output_type": "stream",
     "text": [
      "\n"
     ]
    }
   ],
   "source": [
    "# ==== 推理函数 ====\n",
    "def infer_caption(model, processor, img_path, device):\n",
    "    img = Image.open(img_path).convert(\"RGB\")\n",
    "    prompt = \"<CAPTION>\"\n",
    "    inputs = processor(text=prompt, images=img, return_tensors=\"pt\").to(device)\n",
    "    with torch.no_grad():\n",
    "        generated_ids = model.generate(\n",
    "            input_ids=inputs.input_ids,\n",
    "            pixel_values=inputs.pixel_values,\n",
    "            max_new_tokens=80,\n",
    "            num_beams=3\n",
    "        )\n",
    "    output = processor.batch_decode(generated_ids, skip_special_tokens=True)[0]\n",
    "    return output\n",
    "\n",
    "for model_dir in best_model_dirs:\n",
    "    print(f\"Processing {model_dir} ...\")\n",
    "    # === 先 base model，再 LoRA adapter ===\n",
    "    model = AutoModelForCausalLM.from_pretrained(CKPT, trust_remote_code=True).to(DEVICE)\n",
    "    model = PeftModel.from_pretrained(model, model_dir)\n",
    "    processor = AutoProcessor.from_pretrained(CKPT, trust_remote_code=True)\n",
    "\n",
    "    param_name = os.path.basename(os.path.dirname(model_dir))\n",
    "    out_csv = f\"{param_name}_val_predict.csv\"\n",
    "    with open(out_csv, \"w\", newline=\"\", encoding=\"utf-8\") as f:\n",
    "        writer = csv.writer(f)\n",
    "        writer.writerow([\"image\", \"description\"])\n",
    "        for item in tqdm(val_ds, desc=f\"{param_name} val infer\"):\n",
    "            img_name = item[\"image\"]\n",
    "            img_path = os.path.join(img_dir, img_name)\n",
    "            desc = infer_caption(model, processor, img_path, DEVICE)\n",
    "            writer.writerow([img_name, desc])\n",
    "    print(f\"Saved {out_csv}\")"
   ]
  },
  {
   "cell_type": "code",
   "execution_count": null,
   "id": "ae31aa76",
   "metadata": {},
   "outputs": [],
   "source": [
    "pip install pandas"
   ]
  },
  {
   "cell_type": "code",
   "execution_count": 5,
   "id": "de941daa",
   "metadata": {},
   "outputs": [],
   "source": [
    "from transformers import AutoTokenizer, AutoModelForSeq2SeqLM\n",
    "import csv\n",
    "import pandas as pd\n",
    "from tqdm import tqdm"
   ]
  },
  {
   "cell_type": "code",
   "execution_count": 3,
   "id": "88c11845",
   "metadata": {},
   "outputs": [
    {
     "name": "stderr",
     "output_type": "stream",
     "text": [
      "d:\\ucl-dissertation\\mapillary\\florence_new_env\\Lib\\site-packages\\huggingface_hub\\file_download.py:945: FutureWarning: `resume_download` is deprecated and will be removed in version 1.0.0. Downloads always resume when possible. If you want to force a new download, use `force_download=True`.\n",
      "  warnings.warn(\n",
      "Classifying: 100%|██████████| 40/40 [01:41<00:00,  2.54s/it]"
     ]
    },
    {
     "name": "stdout",
     "output_type": "stream",
     "text": [
      "Saved predictions to flan_t5_bs4_lr1e-05_ep30_sp.csv\n"
     ]
    },
    {
     "name": "stderr",
     "output_type": "stream",
     "text": [
      "\n"
     ]
    }
   ],
   "source": [
    "# ======= Step 1: Load FLAN-T5 Model =======\n",
    "model_name = \"google/flan-t5-large\"\n",
    "tokenizer = AutoTokenizer.from_pretrained(model_name)\n",
    "model = AutoModelForSeq2SeqLM.from_pretrained(model_name)\n",
    "\n",
    "# ======= Step 2: Prompt Template =======\n",
    "def build_prompt(description: str) -> str:\n",
    "    return f\"\"\"\n",
    "You are given a description of a storefront. Classify it into one of the following five categories:\n",
    "\n",
    "1. Retail – includes clothing stores, electronics shops, supermarkets, convenience stores, and home goods stores.\n",
    "2. Food & Beverage – includes restaurants, cafés, bakeries, takeaway shops, fast food vendors, and bars.\n",
    "3. Service-Oriented – includes pharmacies, optical stores, hair salons, internet cafés, photo studios, and financial offices.\n",
    "4. Industrial & Repair – includes hardware stores, car repair shops, electrical suppliers, refrigeration services, and workshops.\n",
    "5. Other – used for storefronts that cannot be identified due to blurry photos, unclear signage, or vague descriptions.\n",
    "\n",
    "Answer with only the category number (1 to 5).\n",
    "\n",
    "Store description: \"{description}\"  \n",
    "\"\"\".strip()\n",
    "\n",
    "# ======= Step 3: Load CSV File =======\n",
    "csv_path = r\"D:\\ucl-dissertation\\mapillary\\florence2-lora-bs4_lr1e-05_ep30_sp_val_predict.csv\"\n",
    "df = pd.read_csv(csv_path)\n",
    "\n",
    "# Ensure columns exist\n",
    "assert \"image\" in df.columns and \"description\" in df.columns, \"CSV must contain 'image' and 'description' columns.\"\n",
    "\n",
    "results = []\n",
    "\n",
    "# ======= Step 4: Predict Loop =======\n",
    "for idx, row in tqdm(df.iterrows(), total=len(df), desc=\"Classifying\"):\n",
    "    image = row[\"image\"]\n",
    "    description = row[\"description\"]\n",
    "    prompt = build_prompt(description)\n",
    "\n",
    "    inputs = tokenizer(prompt, return_tensors=\"pt\", truncation=True, max_length=512)\n",
    "    outputs = model.generate(\n",
    "        **inputs,\n",
    "        max_length=10,\n",
    "        num_beams=5,\n",
    "        do_sample=False,\n",
    "        early_stopping=True,\n",
    "    )\n",
    "\n",
    "    decoded = tokenizer.decode(outputs[0], skip_special_tokens=True).strip()\n",
    "\n",
    "    try:\n",
    "        pred = int(decoded)\n",
    "        if pred not in range(1, 6):\n",
    "            pred = 5\n",
    "    except:\n",
    "        pred = 5\n",
    "\n",
    "    results.append({\n",
    "        \"image\": image,\n",
    "        \"predicted_class\": pred\n",
    "    })\n",
    "\n",
    "# ======= Step 5: Save Results =======\n",
    "output_path = \"flan_t5_bs4_lr1e-05_ep30_sp.csv\"\n",
    "with open(output_path, \"w\", newline=\"\", encoding=\"utf-8\") as f:\n",
    "    writer = csv.DictWriter(f, fieldnames=[\"image\", \"predicted_class\"])\n",
    "    writer.writeheader()\n",
    "    writer.writerows(results)\n",
    "\n",
    "print(f\"Saved predictions to {output_path}\")"
   ]
  },
  {
   "cell_type": "markdown",
   "id": "56cb8f76",
   "metadata": {},
   "source": [
    "### 合并模型权重"
   ]
  },
  {
   "cell_type": "code",
   "execution_count": 6,
   "id": "25862469",
   "metadata": {},
   "outputs": [],
   "source": [
    "import torch\n",
    "from peft import PeftModel\n",
    "from transformers import AutoModelForCausalLM, AutoProcessor"
   ]
  },
  {
   "cell_type": "code",
   "execution_count": 9,
   "id": "f247f1e5",
   "metadata": {},
   "outputs": [
    {
     "name": "stderr",
     "output_type": "stream",
     "text": [
      "d:\\ucl-dissertation\\mapillary\\florence_new_env\\Lib\\site-packages\\huggingface_hub\\file_download.py:945: FutureWarning: `resume_download` is deprecated and will be removed in version 1.0.0. Downloads always resume when possible. If you want to force a new download, use `force_download=True`.\n",
      "  warnings.warn(\n"
     ]
    },
    {
     "name": "stdout",
     "output_type": "stream",
     "text": [
      "✅ 完整模型已保存\n"
     ]
    }
   ],
   "source": [
    "# Base model 和 adapter\n",
    "CKPT = \"microsoft/Florence-2-base\"\n",
    "adapter_path = \"D:/ucl-dissertation/florence2basetrain/florence2-lora-bs4_lr1e-5_ep30_plus15/best\"\n",
    "DEVICE = \"cuda\" if torch.cuda.is_available() else \"cpu\"\n",
    "\n",
    "# === 加载 base model 和 LoRA adapter ===\n",
    "model = AutoModelForCausalLM.from_pretrained(CKPT, trust_remote_code=True)\n",
    "model = PeftModel.from_pretrained(model, adapter_path)\n",
    "\n",
    "# === 合并 LoRA 参数 ===\n",
    "model = model.merge_and_unload()\n",
    "\n",
    "# === 保存完整模型 ===\n",
    "save_path = \"D:/ucl-dissertation/florence_ft_result/florence2-lora-plus\"\n",
    "model.save_pretrained(save_path)\n",
    "\n",
    "# 保存 processor（可选）\n",
    "processor = AutoProcessor.from_pretrained(CKPT, trust_remote_code=True)\n",
    "processor.save_pretrained(save_path)\n",
    "\n",
    "print(\"✅ 完整模型已保存\")\n"
   ]
  },
  {
   "cell_type": "code",
   "execution_count": 10,
   "id": "bd8e708a",
   "metadata": {},
   "outputs": [
    {
     "name": "stderr",
     "output_type": "stream",
     "text": [
      "d:\\ucl-dissertation\\mapillary\\florence_new_env\\Lib\\site-packages\\huggingface_hub\\file_download.py:945: FutureWarning: `resume_download` is deprecated and will be removed in version 1.0.0. Downloads always resume when possible. If you want to force a new download, use `force_download=True`.\n",
      "  warnings.warn(\n"
     ]
    },
    {
     "name": "stdout",
     "output_type": "stream",
     "text": [
      "✅ 完整模型已保存\n"
     ]
    }
   ],
   "source": [
    "# Base model 和 adapter\n",
    "CKPT = \"microsoft/Florence-2-base\"\n",
    "adapter_path = \"D:/ucl-dissertation/florence2basetrain/florence2-lora-bs4_lr1e-05_ep30_sp/best\"\n",
    "DEVICE = \"cuda\" if torch.cuda.is_available() else \"cpu\"\n",
    "\n",
    "# === 加载 base model 和 LoRA adapter ===\n",
    "model = AutoModelForCausalLM.from_pretrained(CKPT, trust_remote_code=True)\n",
    "model = PeftModel.from_pretrained(model, adapter_path)\n",
    "\n",
    "# === 合并 LoRA 参数 ===\n",
    "model = model.merge_and_unload()\n",
    "\n",
    "# === 保存完整模型 ===\n",
    "save_path = \"D:/ucl-dissertation/florence_ft_result/florence2-lora-spcaption\"\n",
    "model.save_pretrained(save_path)\n",
    "\n",
    "# 保存 processor（可选）\n",
    "processor = AutoProcessor.from_pretrained(CKPT, trust_remote_code=True)\n",
    "processor.save_pretrained(save_path)\n",
    "\n",
    "print(\"✅ 完整模型已保存\")"
   ]
  },
  {
   "cell_type": "markdown",
   "id": "e21296ec",
   "metadata": {},
   "source": [
    "## 测试"
   ]
  },
  {
   "cell_type": "code",
   "execution_count": 11,
   "id": "0c16ef64",
   "metadata": {},
   "outputs": [],
   "source": [
    "import torch\n",
    "from transformers import AutoModelForCausalLM, AutoProcessor\n",
    "from PIL import Image"
   ]
  },
  {
   "cell_type": "code",
   "execution_count": 12,
   "id": "caeb70f3",
   "metadata": {},
   "outputs": [
    {
     "name": "stderr",
     "output_type": "stream",
     "text": [
      "Special tokens have been added in the vocabulary, make sure the associated word embeddings are fine-tuned or trained.\n"
     ]
    },
    {
     "name": "stdout",
     "output_type": "stream",
     "text": [
      "生成的描述： A small shop with a sign reading \"Ferrelectricos\" and a large electrical wire inside. The shop appears to be a hardware store, likely used for electrical equipment.\n"
     ]
    }
   ],
   "source": [
    "# 设备设置\n",
    "DEVICE = \"cuda\" if torch.cuda.is_available() else \"cpu\"\n",
    "\n",
    "# 你的完整模型路径（合并后保存的路径）\n",
    "model_path = r\"D:/ucl-dissertation/florence_ft_result/florence2-lora-plus\"\n",
    "\n",
    "# 加载模型和处理器\n",
    "model = AutoModelForCausalLM.from_pretrained(model_path, trust_remote_code=True).to(DEVICE)\n",
    "processor = AutoProcessor.from_pretrained(model_path, trust_remote_code=True)\n",
    "\n",
    "def infer_caption(model, processor, img_path, device):\n",
    "    img = Image.open(img_path).convert(\"RGB\")\n",
    "    prompt = \"<DETAILED_CAPTION>\"\n",
    "    inputs = processor(text=prompt, images=img, return_tensors=\"pt\").to(device)\n",
    "    with torch.no_grad():\n",
    "        generated_ids = model.generate(\n",
    "            input_ids=inputs.input_ids,\n",
    "            pixel_values=inputs.pixel_values,\n",
    "            max_new_tokens=80,\n",
    "            num_beams=3\n",
    "        )\n",
    "    output = processor.batch_decode(generated_ids, skip_special_tokens=True)[0]\n",
    "    return output\n",
    "\n",
    "# 图片路径\n",
    "img_path = r\"D:\\ucl-dissertation\\mapillary\\processed\\image_001.jpg\"\n",
    "\n",
    "# 推理\n",
    "caption = infer_caption(model, processor, img_path, DEVICE)\n",
    "print(\"生成的描述：\", caption)\n"
   ]
  },
  {
   "cell_type": "markdown",
   "id": "c55455c0",
   "metadata": {},
   "source": [
    "### 进行正式推理"
   ]
  },
  {
   "cell_type": "code",
   "execution_count": null,
   "id": "6700efd4",
   "metadata": {},
   "outputs": [],
   "source": [
    "import sys\n",
    "sys.path.insert(0, \"./fake_flash_attn\")"
   ]
  },
  {
   "cell_type": "code",
   "execution_count": null,
   "id": "4c3e9890",
   "metadata": {},
   "outputs": [],
   "source": [
    "import os\n",
    "import csv\n",
    "import torch\n",
    "import threading\n",
    "from queue import Queue\n",
    "from tqdm import tqdm\n",
    "from PIL import Image\n",
    "from transformers import AutoModelForCausalLM, AutoProcessor"
   ]
  },
  {
   "cell_type": "code",
   "execution_count": null,
   "id": "f000671b",
   "metadata": {},
   "outputs": [],
   "source": [
    "# ==== 配置部分 ====\n",
    "DEVICE = \"cuda\" if torch.cuda.is_available() else \"cpu\"\n",
    "model_path = r\"D:/ucl-dissertation/florence_ft_result/florence2-lora-plus\"\n",
    "base_img_dir = r\"D:\\ucl-dissertation\\commercial images\\set1\"  # 存放 imageoutputX 文件夹的路径\n",
    "output_prefix = \"set1_imageoutput\"  # 输出 CSV 的文件名前缀\n",
    "num_threads = 8  # CPU 线程数"
   ]
  },
  {
   "cell_type": "code",
   "execution_count": null,
   "id": "016446ee",
   "metadata": {},
   "outputs": [
    {
     "name": "stderr",
     "output_type": "stream",
     "text": [
      "Special tokens have been added in the vocabulary, make sure the associated word embeddings are fine-tuned or trained.\n"
     ]
    }
   ],
   "source": [
    "# ==== 加载模型（只加载一次） ====\n",
    "model = AutoModelForCausalLM.from_pretrained(model_path, trust_remote_code=True).to(DEVICE)\n",
    "processor = AutoProcessor.from_pretrained(model_path, trust_remote_code=True)"
   ]
  },
  {
   "cell_type": "code",
   "execution_count": null,
   "id": "0d319af0",
   "metadata": {},
   "outputs": [
    {
     "name": "stderr",
     "output_type": "stream",
     "text": [
      "推理进度: 100%|██████████| 639/639 [55:43<00:00,  5.23s/it]  "
     ]
    },
    {
     "name": "stdout",
     "output_type": "stream",
     "text": [
      "✅ CPU多线程推理完成，结果保存到 D:\\ucl-dissertation\\commercial images\\set1\\set1_imageoutput7.csv\n"
     ]
    },
    {
     "name": "stderr",
     "output_type": "stream",
     "text": [
      "\n"
     ]
    }
   ],
   "source": [
    "# ==== 推理函数 ====\n",
    "def infer_caption(img_path):\n",
    "    img = Image.open(img_path).convert(\"RGB\")\n",
    "    prompt = \"<DETAILED_CAPTION>\"\n",
    "    inputs = processor(text=prompt, images=img, return_tensors=\"pt\").to(DEVICE)\n",
    "    with torch.no_grad():\n",
    "        generated_ids = model.generate(\n",
    "            input_ids=inputs.input_ids,\n",
    "            pixel_values=inputs.pixel_values,\n",
    "            max_new_tokens=80,\n",
    "            num_beams=3\n",
    "        )\n",
    "    output = processor.batch_decode(generated_ids, skip_special_tokens=True)[0]\n",
    "    return os.path.basename(img_path), output\n",
    "\n",
    "# ==== 处理单个文件夹 ====\n",
    "def process_folder(folder_name):\n",
    "    img_dir = os.path.join(base_img_dir, folder_name)\n",
    "    out_csv = os.path.join(base_img_dir, f\"{output_prefix}{folder_name[-1]}.csv\")\n",
    "\n",
    "    img_files = [os.path.join(img_dir, f) for f in os.listdir(img_dir)\n",
    "                 if f.lower().endswith((\".jpg\", \".jpeg\", \".png\", \".bmp\", \".webp\"))]\n",
    "\n",
    "    q = Queue()\n",
    "    results = []\n",
    "    pbar = tqdm(total=len(img_files), desc=f\"{folder_name} 推理进度\")\n",
    "\n",
    "    def worker():\n",
    "        while True:\n",
    "            img_path = q.get()\n",
    "            if img_path is None:\n",
    "                break\n",
    "            try:\n",
    "                result = infer_caption(img_path)\n",
    "            except Exception as e:\n",
    "                result = (os.path.basename(img_path), f\"Error: {e}\")\n",
    "            results.append(result)\n",
    "            q.task_done()\n",
    "            pbar.update(1)\n",
    "\n",
    "    threads = []\n",
    "    for _ in range(num_threads):\n",
    "        t = threading.Thread(target=worker)\n",
    "        t.start()\n",
    "        threads.append(t)\n",
    "\n",
    "    for img_file in img_files:\n",
    "        q.put(img_file)\n",
    "\n",
    "    q.join()\n",
    "\n",
    "    for _ in range(num_threads):\n",
    "        q.put(None)\n",
    "    for t in threads:\n",
    "        t.join()\n",
    "\n",
    "    pbar.close()\n",
    "\n",
    "    with open(out_csv, \"w\", newline=\"\", encoding=\"utf-8\") as f:\n",
    "        writer = csv.writer(f)\n",
    "        writer.writerow([\"image\", \"description\"])\n",
    "        for item in results:\n",
    "            writer.writerow(item)\n",
    "\n",
    "    print(f\"✅ {folder_name} 处理完成，结果保存到 {out_csv}\")\n",
    "\n",
    "# ==== 循环处理 imageoutput1-7 ====\n",
    "for i in range(1, 8):\n",
    "    process_folder(f\"imageoutput{i}\")\n",
    "\n",
    "print(\"🎯 所有文件夹处理完成！\")"
   ]
  },
  {
   "cell_type": "markdown",
   "id": "8e161b39",
   "metadata": {},
   "source": [
    "## flan-t5"
   ]
  },
  {
   "cell_type": "code",
   "execution_count": 31,
   "id": "4844f64a",
   "metadata": {},
   "outputs": [],
   "source": [
    "from transformers import AutoTokenizer, AutoModelForSeq2SeqLM\n",
    "import csv\n",
    "import pandas as pd\n",
    "from tqdm import tqdm"
   ]
  },
  {
   "cell_type": "code",
   "execution_count": 33,
   "id": "9a9a0b3d",
   "metadata": {},
   "outputs": [
    {
     "name": "stderr",
     "output_type": "stream",
     "text": [
      "d:\\ucl-dissertation\\mapillary\\florence_new_env\\Lib\\site-packages\\huggingface_hub\\file_download.py:945: FutureWarning: `resume_download` is deprecated and will be removed in version 1.0.0. Downloads always resume when possible. If you want to force a new download, use `force_download=True`.\n",
      "  warnings.warn(\n",
      "Classifying: 100%|██████████| 4219/4219 [3:10:28<00:00,  2.71s/it]  "
     ]
    },
    {
     "name": "stdout",
     "output_type": "stream",
     "text": [
      "Saved predictions to D:\\ucl-dissertation\\commercial images\\set1\\set1_flan.csv\n"
     ]
    },
    {
     "name": "stderr",
     "output_type": "stream",
     "text": [
      "\n"
     ]
    }
   ],
   "source": [
    "# ======= Step 1: Load FLAN-T5 Model =======\n",
    "model_name = \"google/flan-t5-large\"\n",
    "tokenizer = AutoTokenizer.from_pretrained(model_name)\n",
    "model = AutoModelForSeq2SeqLM.from_pretrained(model_name)\n",
    "\n",
    "# ======= Step 2: Prompt Template =======\n",
    "def build_prompt(description: str) -> str:\n",
    "    return f\"\"\"\n",
    "You are given a description of a storefront. Classify it into one of the following five categories:\n",
    "\n",
    "1. Retail – includes clothing stores, electronics shops, supermarkets, convenience stores, and home goods stores.\n",
    "2. Food & Beverage – includes restaurants, cafés, bakeries, takeaway shops, fast food vendors, and bars.\n",
    "3. Service-Oriented – includes pharmacies, optical stores, hair salons, internet cafés, photo studios, and financial offices.\n",
    "4. Industrial & Repair – includes hardware stores, car repair shops, electrical suppliers, refrigeration services, and workshops.\n",
    "5. Other – used for storefronts that cannot be identified due to blurry photos, unclear signage, or vague descriptions.\n",
    "\n",
    "Answer with only the category number (1 to 5).\n",
    "\n",
    "Store description: \"{description}\"  \n",
    "\"\"\".strip()\n",
    "\n",
    "# ======= Step 3: Load CSV File =======\n",
    "csv_path = r\"D:\\ucl-dissertation\\commercial images\\set1\\set1_imageoutput_merged.csv\"\n",
    "df = pd.read_csv(csv_path)\n",
    "\n",
    "# Ensure columns exist\n",
    "assert \"image\" in df.columns and \"description\" in df.columns, \"CSV must contain 'image' and 'description' columns.\"\n",
    "\n",
    "results = []\n",
    "\n",
    "# ======= Step 4: Predict Loop =======\n",
    "for idx, row in tqdm(df.iterrows(), total=len(df), desc=\"Classifying\"):\n",
    "    image = row[\"image\"]\n",
    "    description = row[\"description\"]\n",
    "    prompt = build_prompt(description)\n",
    "\n",
    "    inputs = tokenizer(prompt, return_tensors=\"pt\", truncation=True, max_length=512)\n",
    "    outputs = model.generate(\n",
    "        **inputs,\n",
    "        max_length=10,\n",
    "        num_beams=5,\n",
    "        do_sample=False,\n",
    "        early_stopping=True,\n",
    "    )\n",
    "\n",
    "    decoded = tokenizer.decode(outputs[0], skip_special_tokens=True).strip()\n",
    "\n",
    "    try:\n",
    "        pred = int(decoded)\n",
    "        if pred not in range(1, 6):\n",
    "            pred = 5\n",
    "    except:\n",
    "        pred = 5\n",
    "\n",
    "    results.append({\n",
    "        \"image\": image,\n",
    "        \"predicted_class\": pred\n",
    "    })\n",
    "\n",
    "# ======= Step 5: Save Results =======\n",
    "output_path = r\"D:\\ucl-dissertation\\commercial images\\set1\\set1_flan.csv\"\n",
    "with open(output_path, \"w\", newline=\"\", encoding=\"utf-8\") as f:\n",
    "    writer = csv.DictWriter(f, fieldnames=[\"image\", \"predicted_class\"])\n",
    "    writer.writeheader()\n",
    "    writer.writerows(results)\n",
    "\n",
    "print(f\"Saved predictions to {output_path}\")"
   ]
  },
  {
   "cell_type": "code",
   "execution_count": 30,
   "id": "afbc7737",
   "metadata": {},
   "outputs": [
    {
     "name": "stdout",
     "output_type": "stream",
     "text": [
      "✅ 合并完成，保存到 D:\\ucl-dissertation\\commercial images\\set1\\set1_imageoutput_merged.csv\n"
     ]
    }
   ],
   "source": [
    "# 合并csv\n",
    "\n",
    "import pandas as pd\n",
    "import os\n",
    "\n",
    "# CSV文件所在文件夹\n",
    "csv_folder = r\"D:\\ucl-dissertation\\commercial images\\set1\"\n",
    "\n",
    "# 要合并的CSV文件名列表（对应你的文件名格式）\n",
    "csv_files = [\n",
    "    \"set1_imageoutput1.csv\",\n",
    "    \"set1_imageoutput2.csv\",\n",
    "    \"set1_imageoutput3.csv\",\n",
    "    \"set1_imageoutput4.csv\",\n",
    "    \"set1_imageoutput5.csv\",\n",
    "    \"set1_imageoutput6.csv\",\n",
    "    \"set1_imageoutput7.csv\"\n",
    "]\n",
    "\n",
    "dfs = []\n",
    "for file in csv_files:\n",
    "    path = os.path.join(csv_folder, file)\n",
    "    df = pd.read_csv(path)  # 默认header=0，会把第一行当标题\n",
    "    dfs.append(df)\n",
    "\n",
    "# 合并所有DataFrame，默认忽略原索引，重置索引\n",
    "merged_df = pd.concat(dfs, ignore_index=True)\n",
    "\n",
    "# 保存合并后的CSV文件\n",
    "output_path = os.path.join(csv_folder, \"set1_imageoutput_merged.csv\")\n",
    "merged_df.to_csv(output_path, index=False, encoding='utf-8-sig')\n",
    "\n",
    "print(f\"✅ 合并完成，保存到 {output_path}\")\n"
   ]
  }
 ],
 "metadata": {
  "kernelspec": {
   "display_name": "florence_new_env",
   "language": "python",
   "name": "python3"
  },
  "language_info": {
   "codemirror_mode": {
    "name": "ipython",
    "version": 3
   },
   "file_extension": ".py",
   "mimetype": "text/x-python",
   "name": "python",
   "nbconvert_exporter": "python",
   "pygments_lexer": "ipython3",
   "version": "3.12.6"
  }
 },
 "nbformat": 4,
 "nbformat_minor": 5
}
